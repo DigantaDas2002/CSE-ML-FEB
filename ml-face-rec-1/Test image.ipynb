{
 "cells": [
  {
   "cell_type": "code",
   "execution_count": 9,
   "id": "3d057a80",
   "metadata": {},
   "outputs": [],
   "source": [
    "import cv2\n",
    "import face_recognition"
   ]
  },
  {
   "cell_type": "code",
   "execution_count": 25,
   "id": "ead3f3fe",
   "metadata": {},
   "outputs": [
    {
     "name": "stdout",
     "output_type": "stream",
     "text": [
      "[False]\n"
     ]
    }
   ],
   "source": [
    "img1 = face_recognition.load_image_file('C:/Users/sarba/OneDrive/Pictures/Sarbajit.jpeg')\n",
    "img1 = cv2.cvtColor(img1, cv2.COLOR_BGR2RGB)\n",
    "img1test = face_recognition.load_image_file('C:/Users/sarba/OneDrive/Pictures/Mizan Sir.jpg')\n",
    "img1test = cv2.cvtColor(img1test, cv2.COLOR_BGR2RGB)\n",
    "\n",
    "#face encodings\n",
    "face = face_recognition.face_locations(img1)[0] \n",
    "#print(face)\n",
    "\n",
    "encodeFace = face_recognition.face_encodings(img1)[0]\n",
    "#print(encodeFace)\n",
    "#128 face encodings\n",
    "\n",
    "cv2.rectangle(img1, (face[3],face[0]),(face[1],face[2]),(0,255,0), 3)  #y1,x2,y2,x1\n",
    "\n",
    "faceTest = face_recognition.face_locations(img1test)[0]\n",
    "encodeTestFace = face_recognition.face_encodings(img1test)[0]\n",
    "cv2.rectangle(img1test, (faceTest[3],faceTest[0]),(faceTest[1],faceTest[2]),(0,255,0), 3)\n",
    "\n",
    "res = face_recognition.compare_faces([encodeFace], encodeTestFace)\n",
    "print(res)\n",
    "\n",
    "cv2.imshow(\"Sarbajit\", img1)\n",
    "cv2.imshow(\"Sarbajit Test\", img1test)\n",
    "cv2.waitKey()\n",
    "cv2.destroyAllWindows()"
   ]
  },
  {
   "cell_type": "code",
   "execution_count": null,
   "id": "d47ec227",
   "metadata": {},
   "outputs": [],
   "source": []
  },
  {
   "cell_type": "code",
   "execution_count": null,
   "id": "02a5bfbe",
   "metadata": {},
   "outputs": [],
   "source": []
  }
 ],
 "metadata": {
  "kernelspec": {
   "display_name": "Python 3 (ipykernel)",
   "language": "python",
   "name": "python3"
  },
  "language_info": {
   "codemirror_mode": {
    "name": "ipython",
    "version": 3
   },
   "file_extension": ".py",
   "mimetype": "text/x-python",
   "name": "python",
   "nbconvert_exporter": "python",
   "pygments_lexer": "ipython3",
   "version": "3.9.7"
  }
 },
 "nbformat": 4,
 "nbformat_minor": 5
}
